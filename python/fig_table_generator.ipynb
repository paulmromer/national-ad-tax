{
 "cells": [
  {
   "cell_type": "code",
   "execution_count": null,
   "id": "5581f396",
   "metadata": {},
   "outputs": [],
   "source": [
    "# from IPython.display import display, HTML\n",
    "# import matplotlib.pyplot as plt\n",
    "# import matplotlib.ticker as ticker\n",
    "# import io, base64\n",
    "# import numpy as np\n",
    "# from time import time\n",
    "from adTax import *\n",
    "from htmlTable import *"
   ]
  },
  {
   "cell_type": "code",
   "execution_count": null,
   "id": "5ee9a234",
   "metadata": {},
   "outputs": [],
   "source": [
    "%run htmlTable"
   ]
  },
  {
   "cell_type": "code",
   "execution_count": null,
   "id": "ae9903cb",
   "metadata": {},
   "outputs": [],
   "source": [
    "%run adTax"
   ]
  },
  {
   "cell_type": "code",
   "execution_count": null,
   "id": "21504da5",
   "metadata": {},
   "outputs": [],
   "source": [
    "# bracket thresholds\n",
    "b0 = [0, 5, 10, 15, 20, 25, 30, 35, 40, 50, 60]\n",
    "# rates\n",
    "r0 = [0, 0.05, 0.125, 0.20, 0.275, 0.35, 0.425, 0.50, 0.575, 0.65, 0.725 ]\n"
   ]
  },
  {
   "cell_type": "code",
   "execution_count": null,
   "id": "2a363d83",
   "metadata": {},
   "outputs": [],
   "source": [
    "display(HTML(table_tax_paid_total(b0, r0)))"
   ]
  },
  {
   "cell_type": "code",
   "execution_count": null,
   "id": "b6db915b",
   "metadata": {},
   "outputs": [],
   "source": [
    "display(HTML(table_marg_rates(b0, r0)))"
   ]
  },
  {
   "cell_type": "code",
   "execution_count": null,
   "id": "e2ed348d",
   "metadata": {},
   "outputs": [],
   "source": [
    "# Content for load-tables.js\n",
    "\n",
    "s1 = '(function() {document.getElementById(\"total-revenue-table-default\").innerHTML = '\n",
    "s1 += repr(table_tax_paid_total(b0, r0))  + '})();\\n\\n'\n",
    "s1 += '(function() {document.getElementById(\"marginal-rate-table-default\").innerHTML = '\n",
    "s1 += repr(table_marg_rates(b0, r0)) + '})();'"
   ]
  },
  {
   "cell_type": "code",
   "execution_count": null,
   "id": "5e583f53",
   "metadata": {},
   "outputs": [],
   "source": [
    "# print(s1) "
   ]
  },
  {
   "cell_type": "code",
   "execution_count": null,
   "id": "fd0aa2bb",
   "metadata": {},
   "outputs": [],
   "source": [
    "with open('../js/load-tables.js', 'w') as f:\n",
    "    f.write(s1)"
   ]
  },
  {
   "cell_type": "code",
   "execution_count": null,
   "id": "0b54b14c",
   "metadata": {},
   "outputs": [],
   "source": [
    "us_img_str = us_fig(b0,r0)"
   ]
  },
  {
   "cell_type": "code",
   "execution_count": null,
   "id": "22738e40",
   "metadata": {},
   "outputs": [],
   "source": [
    "b2 = [ 2* bracket for bracket in b0]\n",
    "print(b2)\n",
    "ww_img_str = ww_fig(b2,r0)"
   ]
  },
  {
   "cell_type": "code",
   "execution_count": null,
   "id": "2098b96f",
   "metadata": {},
   "outputs": [],
   "source": []
  }
 ],
 "metadata": {
  "kernelspec": {
   "display_name": "Python 3",
   "language": "python",
   "name": "python3"
  },
  "language_info": {
   "codemirror_mode": {
    "name": "ipython",
    "version": 3
   },
   "file_extension": ".py",
   "mimetype": "text/x-python",
   "name": "python",
   "nbconvert_exporter": "python",
   "pygments_lexer": "ipython3",
   "version": "3.8.8"
  }
 },
 "nbformat": 4,
 "nbformat_minor": 5
}
